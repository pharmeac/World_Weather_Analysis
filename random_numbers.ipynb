{
 "cells": [
  {
   "cell_type": "code",
   "execution_count": 1,
   "id": "873b713b",
   "metadata": {},
   "outputs": [],
   "source": [
    "# Import the random module.\n",
    "import random"
   ]
  },
  {
   "cell_type": "code",
   "execution_count": 2,
   "id": "9d3d1660",
   "metadata": {},
   "outputs": [
    {
     "data": {
      "text/plain": [
       "32"
      ]
     },
     "execution_count": 2,
     "metadata": {},
     "output_type": "execute_result"
    }
   ],
   "source": [
    "random.randint(-90, 90)"
   ]
  },
  {
   "cell_type": "code",
   "execution_count": 3,
   "id": "35e83ac4",
   "metadata": {},
   "outputs": [
    {
     "data": {
      "text/plain": [
       "0.8340556502585971"
      ]
     },
     "execution_count": 3,
     "metadata": {},
     "output_type": "execute_result"
    }
   ],
   "source": [
    "random.random()"
   ]
  },
  {
   "cell_type": "code",
   "execution_count": 4,
   "id": "45dba1d8",
   "metadata": {},
   "outputs": [
    {
     "data": {
      "text/plain": [
       "59.975726868844085"
      ]
     },
     "execution_count": 4,
     "metadata": {},
     "output_type": "execute_result"
    }
   ],
   "source": [
    "random_number = random.randint(-90,89) + random.random()\n",
    "random_number"
   ]
  },
  {
   "cell_type": "code",
   "execution_count": 7,
   "id": "ce340345",
   "metadata": {},
   "outputs": [
    {
     "data": {
      "text/plain": [
       "[-89.99013739863157,\n",
       " 49.664557575204334,\n",
       " -5.688956750103541,\n",
       " -35.19733861662409,\n",
       " -63.0758305074774,\n",
       " -67.17240652522682,\n",
       " 73.02054807534475,\n",
       " 34.302762005605594,\n",
       " 85.54938298453236,\n",
       " 70.64485791164108]"
      ]
     },
     "execution_count": 7,
     "metadata": {},
     "output_type": "execute_result"
    }
   ],
   "source": [
    "x = 1\n",
    "latitudes = []\n",
    "while x < 11:\n",
    "    random_lat = random.randint(-90, 89) + random.random()\n",
    "    latitudes.append(random_lat)\n",
    "    x += 1\n",
    "latitudes"
   ]
  },
  {
   "cell_type": "code",
   "execution_count": 8,
   "id": "c86e8684",
   "metadata": {},
   "outputs": [
    {
     "data": {
      "text/plain": [
       "64"
      ]
     },
     "execution_count": 8,
     "metadata": {},
     "output_type": "execute_result"
    }
   ],
   "source": [
    "random.randrange(-90,90, step=1)"
   ]
  },
  {
   "cell_type": "code",
   "execution_count": 9,
   "id": "6f9fcbad",
   "metadata": {},
   "outputs": [
    {
     "data": {
      "text/plain": [
       "-6.859334584796741"
      ]
     },
     "execution_count": 9,
     "metadata": {},
     "output_type": "execute_result"
    }
   ],
   "source": [
    "random.uniform(-90, 90)"
   ]
  },
  {
   "cell_type": "code",
   "execution_count": 10,
   "id": "25b21982",
   "metadata": {},
   "outputs": [],
   "source": [
    "# Import the NumPy module.\n",
    "import numpy as np"
   ]
  },
  {
   "cell_type": "code",
   "execution_count": 12,
   "id": "da7537bd",
   "metadata": {},
   "outputs": [
    {
     "data": {
      "text/plain": [
       "71.6162786353496"
      ]
     },
     "execution_count": 12,
     "metadata": {},
     "output_type": "execute_result"
    }
   ],
   "source": [
    "np.random.uniform(-90, 90)"
   ]
  },
  {
   "cell_type": "code",
   "execution_count": 13,
   "id": "35a5d4a8",
   "metadata": {},
   "outputs": [
    {
     "data": {
      "text/plain": [
       "14.30206647680491"
      ]
     },
     "execution_count": 13,
     "metadata": {},
     "output_type": "execute_result"
    }
   ],
   "source": [
    "np.random.uniform(low=-90, high=90)"
   ]
  },
  {
   "cell_type": "code",
   "execution_count": 14,
   "id": "a107e49e",
   "metadata": {},
   "outputs": [
    {
     "data": {
      "text/plain": [
       "array([-47.14872979, -50.38963755,   9.78280215,   6.96945751,\n",
       "       -65.7503873 ,  27.87813402, -74.74988978,  27.42318902,\n",
       "       -26.38594407, -85.16918558, -13.01378727,  15.95843678,\n",
       "        -9.16631381, -67.86049777,  -7.46082405,   1.78615959,\n",
       "        87.24930827,  76.28824802,  45.29437051, -16.60842947,\n",
       "        18.20182147, -39.84707604, -56.17962324,  48.90195344,\n",
       "        41.45966089, -64.11370981, -38.0798516 ,  -9.13314803,\n",
       "        22.77474123, -15.77101729,  62.77671197, -19.9437777 ,\n",
       "        35.63470705, -13.13361502,  -7.22277086, -54.14694791,\n",
       "        66.05507549,  -6.28907236,  -6.27801502,  66.35395913,\n",
       "       -22.64190982,  31.24103551,  53.00085397,  22.14839544,\n",
       "        64.10877877,  34.09994783, -81.14735283,  12.64320347,\n",
       "        84.15822859, -28.85700648])"
      ]
     },
     "execution_count": 14,
     "metadata": {},
     "output_type": "execute_result"
    }
   ],
   "source": [
    "np.random.uniform(-90.000, 90.000, size=50)"
   ]
  },
  {
   "cell_type": "code",
   "execution_count": 15,
   "id": "4cfe457a",
   "metadata": {},
   "outputs": [],
   "source": [
    "# Import timeit.\n",
    "import timeit"
   ]
  },
  {
   "cell_type": "code",
   "execution_count": 16,
   "id": "369e7e4b",
   "metadata": {},
   "outputs": [
    {
     "name": "stdout",
     "output_type": "stream",
     "text": [
      "12.4 µs ± 77.1 ns per loop (mean ± std. dev. of 7 runs, 100,000 loops each)\n"
     ]
    }
   ],
   "source": [
    "%timeit np.random.uniform(-90.000, 90.000, size=1500)"
   ]
  },
  {
   "cell_type": "code",
   "execution_count": 17,
   "id": "bfb613d2",
   "metadata": {},
   "outputs": [
    {
     "name": "stdout",
     "output_type": "stream",
     "text": [
      "1.34 ms ± 9.67 µs per loop (mean ± std. dev. of 7 runs, 1,000 loops each)\n"
     ]
    }
   ],
   "source": [
    "def latitudes(size):\n",
    "    latitudes = []\n",
    "    x = 0\n",
    "    while x < (size):\n",
    "        random_lat = random.randint(-90, 90) + random.random()\n",
    "        latitudes.append(random_lat)\n",
    "        x += 1\n",
    "    return latitudes\n",
    "# Call the function with 1500.\n",
    "%timeit latitudes(1500)"
   ]
  },
  {
   "cell_type": "code",
   "execution_count": null,
   "id": "303f45dc",
   "metadata": {},
   "outputs": [],
   "source": []
  }
 ],
 "metadata": {
  "kernelspec": {
   "display_name": "Python3.9Update",
   "language": "python",
   "name": "python3.9update"
  },
  "language_info": {
   "codemirror_mode": {
    "name": "ipython",
    "version": 3
   },
   "file_extension": ".py",
   "mimetype": "text/x-python",
   "name": "python",
   "nbconvert_exporter": "python",
   "pygments_lexer": "ipython3",
   "version": "3.9.12"
  }
 },
 "nbformat": 4,
 "nbformat_minor": 5
}
